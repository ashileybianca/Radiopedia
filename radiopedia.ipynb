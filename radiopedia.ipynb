{
 "cells": [
  {
   "cell_type": "code",
   "execution_count": 44,
   "metadata": {},
   "outputs": [
    {
     "name": "stdout",
     "output_type": "stream",
     "text": [
      "[]\n",
      "[]\n",
      "[]\n"
     ]
    },
    {
     "ename": "NoSuchWindowException",
     "evalue": "Message: no such window: target window already closed\nfrom unknown error: web view not found\n  (Session info: chrome=118.0.5993.88)\nStacktrace:\n#0 0x56487931efb3 <unknown>\n#1 0x564878ff24a7 <unknown>\n#2 0x564878fcb204 <unknown>\n#3 0x564879060caf <unknown>\n#4 0x564879074756 <unknown>\n#5 0x56487905b713 <unknown>\n#6 0x56487902e18b <unknown>\n#7 0x56487902ef7e <unknown>\n#8 0x5648792e48d8 <unknown>\n#9 0x5648792e8800 <unknown>\n#10 0x5648792f2cfc <unknown>\n#11 0x5648792e9418 <unknown>\n#12 0x5648792b642f <unknown>\n#13 0x56487930d4e8 <unknown>\n#14 0x56487930d6b4 <unknown>\n#15 0x56487931e143 <unknown>\n#16 0x7f1921294ac3 <unknown>\n",
     "output_type": "error",
     "traceback": [
      "\u001b[0;31m---------------------------------------------------------------------------\u001b[0m",
      "\u001b[0;31mNoSuchWindowException\u001b[0m                     Traceback (most recent call last)",
      "\u001b[1;32mUntitled-2.ipynb Cell 1\u001b[0m line \u001b[0;36m3\n\u001b[1;32m     <a href='vscode-notebook-cell:Untitled-2.ipynb?jupyter-notebook#W0sdW50aXRsZWQ%3D?line=35'>36</a>\u001b[0m driver \u001b[39m=\u001b[39m webdriver\u001b[39m.\u001b[39mChrome(options\u001b[39m=\u001b[39moptions)\n\u001b[1;32m     <a href='vscode-notebook-cell:Untitled-2.ipynb?jupyter-notebook#W0sdW50aXRsZWQ%3D?line=37'>38</a>\u001b[0m \u001b[39mfor\u001b[39;00m link \u001b[39min\u001b[39;00m cases_links:\n\u001b[0;32m---> <a href='vscode-notebook-cell:Untitled-2.ipynb?jupyter-notebook#W0sdW50aXRsZWQ%3D?line=38'>39</a>\u001b[0m     driver\u001b[39m.\u001b[39;49mexecute_script(\u001b[39mf\u001b[39;49m\u001b[39m\"\u001b[39;49m\u001b[39mwindow.open(\u001b[39;49m\u001b[39m'\u001b[39;49m\u001b[39m{\u001b[39;49;00mlink\u001b[39m}\u001b[39;49;00m\u001b[39m'\u001b[39;49m\u001b[39m, \u001b[39;49m\u001b[39m'\u001b[39;49m\u001b[39m_blank\u001b[39;49m\u001b[39m'\u001b[39;49m\u001b[39m)\u001b[39;49m\u001b[39m\"\u001b[39;49m) \n\u001b[1;32m     <a href='vscode-notebook-cell:Untitled-2.ipynb?jupyter-notebook#W0sdW50aXRsZWQ%3D?line=39'>40</a>\u001b[0m     elementos \u001b[39m=\u001b[39m driver\u001b[39m.\u001b[39mfind_elements(By\u001b[39m.\u001b[39mXPATH, \u001b[39m'\u001b[39m\u001b[39m//*[@id=\u001b[39m\u001b[39m\"\u001b[39m\u001b[39mmain\u001b[39m\u001b[39m\"\u001b[39m\u001b[39m]/div[1]/div/div[1]/div[2]/div[2]/div[2]/div/div/div/link\u001b[39m\u001b[39m'\u001b[39m)\n\u001b[1;32m     <a href='vscode-notebook-cell:Untitled-2.ipynb?jupyter-notebook#W0sdW50aXRsZWQ%3D?line=40'>41</a>\u001b[0m     \u001b[39mprint\u001b[39m(elementos)\n",
      "File \u001b[0;32m~/miniconda3/lib/python3.10/site-packages/selenium/webdriver/remote/webdriver.py:407\u001b[0m, in \u001b[0;36mWebDriver.execute_script\u001b[0;34m(self, script, *args)\u001b[0m\n\u001b[1;32m    404\u001b[0m converted_args \u001b[39m=\u001b[39m \u001b[39mlist\u001b[39m(args)\n\u001b[1;32m    405\u001b[0m command \u001b[39m=\u001b[39m Command\u001b[39m.\u001b[39mW3C_EXECUTE_SCRIPT\n\u001b[0;32m--> 407\u001b[0m \u001b[39mreturn\u001b[39;00m \u001b[39mself\u001b[39;49m\u001b[39m.\u001b[39;49mexecute(command, {\u001b[39m\"\u001b[39;49m\u001b[39mscript\u001b[39;49m\u001b[39m\"\u001b[39;49m: script, \u001b[39m\"\u001b[39;49m\u001b[39margs\u001b[39;49m\u001b[39m\"\u001b[39;49m: converted_args})[\u001b[39m\"\u001b[39m\u001b[39mvalue\u001b[39m\u001b[39m\"\u001b[39m]\n",
      "File \u001b[0;32m~/miniconda3/lib/python3.10/site-packages/selenium/webdriver/remote/webdriver.py:347\u001b[0m, in \u001b[0;36mWebDriver.execute\u001b[0;34m(self, driver_command, params)\u001b[0m\n\u001b[1;32m    345\u001b[0m response \u001b[39m=\u001b[39m \u001b[39mself\u001b[39m\u001b[39m.\u001b[39mcommand_executor\u001b[39m.\u001b[39mexecute(driver_command, params)\n\u001b[1;32m    346\u001b[0m \u001b[39mif\u001b[39;00m response:\n\u001b[0;32m--> 347\u001b[0m     \u001b[39mself\u001b[39;49m\u001b[39m.\u001b[39;49merror_handler\u001b[39m.\u001b[39;49mcheck_response(response)\n\u001b[1;32m    348\u001b[0m     response[\u001b[39m\"\u001b[39m\u001b[39mvalue\u001b[39m\u001b[39m\"\u001b[39m] \u001b[39m=\u001b[39m \u001b[39mself\u001b[39m\u001b[39m.\u001b[39m_unwrap_value(response\u001b[39m.\u001b[39mget(\u001b[39m\"\u001b[39m\u001b[39mvalue\u001b[39m\u001b[39m\"\u001b[39m, \u001b[39mNone\u001b[39;00m))\n\u001b[1;32m    349\u001b[0m     \u001b[39mreturn\u001b[39;00m response\n",
      "File \u001b[0;32m~/miniconda3/lib/python3.10/site-packages/selenium/webdriver/remote/errorhandler.py:229\u001b[0m, in \u001b[0;36mErrorHandler.check_response\u001b[0;34m(self, response)\u001b[0m\n\u001b[1;32m    227\u001b[0m         alert_text \u001b[39m=\u001b[39m value[\u001b[39m\"\u001b[39m\u001b[39malert\u001b[39m\u001b[39m\"\u001b[39m]\u001b[39m.\u001b[39mget(\u001b[39m\"\u001b[39m\u001b[39mtext\u001b[39m\u001b[39m\"\u001b[39m)\n\u001b[1;32m    228\u001b[0m     \u001b[39mraise\u001b[39;00m exception_class(message, screen, stacktrace, alert_text)  \u001b[39m# type: ignore[call-arg]  # mypy is not smart enough here\u001b[39;00m\n\u001b[0;32m--> 229\u001b[0m \u001b[39mraise\u001b[39;00m exception_class(message, screen, stacktrace)\n",
      "\u001b[0;31mNoSuchWindowException\u001b[0m: Message: no such window: target window already closed\nfrom unknown error: web view not found\n  (Session info: chrome=118.0.5993.88)\nStacktrace:\n#0 0x56487931efb3 <unknown>\n#1 0x564878ff24a7 <unknown>\n#2 0x564878fcb204 <unknown>\n#3 0x564879060caf <unknown>\n#4 0x564879074756 <unknown>\n#5 0x56487905b713 <unknown>\n#6 0x56487902e18b <unknown>\n#7 0x56487902ef7e <unknown>\n#8 0x5648792e48d8 <unknown>\n#9 0x5648792e8800 <unknown>\n#10 0x5648792f2cfc <unknown>\n#11 0x5648792e9418 <unknown>\n#12 0x5648792b642f <unknown>\n#13 0x56487930d4e8 <unknown>\n#14 0x56487930d6b4 <unknown>\n#15 0x56487931e143 <unknown>\n#16 0x7f1921294ac3 <unknown>\n"
     ]
    }
   ],
   "source": [
    "from selenium import webdriver\n",
    "from selenium.webdriver.common.by import By\n",
    "import time\n",
    "from bs4 import BeautifulSoup\n",
    "import requests\n",
    "from selenium.webdriver.chrome.options import Options\n",
    "\n",
    "cases_links = []\n",
    "all_span_tuples = []\n",
    "\n",
    "total_pages = 2  # alterar para a quantidade correta\n",
    "\n",
    "for page in range(1, total_pages + 1):\n",
    "    url = f'https://radiopaedia.org/search?lang=us&page={page}&scope=cases&sort=date_of_publication'\n",
    "    response = requests.get(url)\n",
    "    content = response.content\n",
    "\n",
    "    soup = BeautifulSoup(content, 'html.parser')\n",
    "\n",
    "    elements = soup.find_all('a', class_='search-result-case')\n",
    "\n",
    "    divs = soup.select('#search-results div.col-xs-12.search-results-listing a div.search-result-body div.search-result-description div.search-result-modalities')\n",
    "\n",
    "    for div, element in zip(divs, elements):\n",
    "        spans = div.find_all('span')\n",
    "        span_texts = [span.text.strip() for span in spans]\n",
    "        all_span_tuples.append(tuple(span_texts))\n",
    "\n",
    "        if 'CT' not in span_texts and 'MRI' not in span_texts:\n",
    "            link = element.get('href')\n",
    "            cases_links.append('https://radiopaedia.org' + link)\n",
    "\n",
    "options = Options()\n",
    "options.headless = True  # Ativado para que o navegador não seja aberto.\n",
    "\n",
    "driver = webdriver.Chrome(options=options)\n",
    "\n",
    "for link in cases_links:\n",
    "    driver.execute_script(f\"window.open('{link}', '_blank')\") \n",
    "    elementos = driver.find_elements(By.XPATH, '//*[@id=\"main\"]/div[1]/div/div[1]/div[2]/div[2]/div[2]/div/div/div/link')\n",
    "    print(elementos)\n",
    "    time.sleep(5)\n",
    "    \n",
    "driver.quit()"
   ]
  },
  {
   "cell_type": "code",
   "execution_count": null,
   "metadata": {},
   "outputs": [
    {
     "data": {
      "text/plain": [
       "[[<selenium.webdriver.remote.webelement.WebElement (session=\"e874fce75d758289ee5c6b9b163507ab\", element=\"22E2CE9F52117759C030A772DA09BE5E_element_103\")>,\n",
       "  <selenium.webdriver.remote.webelement.WebElement (session=\"e874fce75d758289ee5c6b9b163507ab\", element=\"22E2CE9F52117759C030A772DA09BE5E_element_104\")>,\n",
       "  <selenium.webdriver.remote.webelement.WebElement (session=\"e874fce75d758289ee5c6b9b163507ab\", element=\"22E2CE9F52117759C030A772DA09BE5E_element_105\")>,\n",
       "  <selenium.webdriver.remote.webelement.WebElement (session=\"e874fce75d758289ee5c6b9b163507ab\", element=\"22E2CE9F52117759C030A772DA09BE5E_element_106\")>,\n",
       "  <selenium.webdriver.remote.webelement.WebElement (session=\"e874fce75d758289ee5c6b9b163507ab\", element=\"22E2CE9F52117759C030A772DA09BE5E_element_107\")>,\n",
       "  <selenium.webdriver.remote.webelement.WebElement (session=\"e874fce75d758289ee5c6b9b163507ab\", element=\"22E2CE9F52117759C030A772DA09BE5E_element_108\")>,\n",
       "  <selenium.webdriver.remote.webelement.WebElement (session=\"e874fce75d758289ee5c6b9b163507ab\", element=\"22E2CE9F52117759C030A772DA09BE5E_element_109\")>,\n",
       "  <selenium.webdriver.remote.webelement.WebElement (session=\"e874fce75d758289ee5c6b9b163507ab\", element=\"22E2CE9F52117759C030A772DA09BE5E_element_110\")>,\n",
       "  <selenium.webdriver.remote.webelement.WebElement (session=\"e874fce75d758289ee5c6b9b163507ab\", element=\"22E2CE9F52117759C030A772DA09BE5E_element_111\")>,\n",
       "  <selenium.webdriver.remote.webelement.WebElement (session=\"e874fce75d758289ee5c6b9b163507ab\", element=\"22E2CE9F52117759C030A772DA09BE5E_element_112\")>],\n",
       " [<selenium.webdriver.remote.webelement.WebElement (session=\"e874fce75d758289ee5c6b9b163507ab\", element=\"48E28165C37F4A8492693E108997EF16_element_143\")>],\n",
       " [<selenium.webdriver.remote.webelement.WebElement (session=\"e874fce75d758289ee5c6b9b163507ab\", element=\"1002DBC7E47F1C90C69C60C78FDAE67E_element_193\")>],\n",
       " [<selenium.webdriver.remote.webelement.WebElement (session=\"e874fce75d758289ee5c6b9b163507ab\", element=\"F7E57FD1A4CA18397213481AF55AAF7C_element_229\")>],\n",
       " [<selenium.webdriver.remote.webelement.WebElement (session=\"e874fce75d758289ee5c6b9b163507ab\", element=\"C8E686E8AF9C17D1862932D3F515051C_element_269\")>],\n",
       " [<selenium.webdriver.remote.webelement.WebElement (session=\"e874fce75d758289ee5c6b9b163507ab\", element=\"A85F999EA71CDED9347F272C214396D7_element_312\")>],\n",
       " [<selenium.webdriver.remote.webelement.WebElement (session=\"e874fce75d758289ee5c6b9b163507ab\", element=\"CD043556DD0471E0F174D80FE8AA007F_element_356\")>],\n",
       " [<selenium.webdriver.remote.webelement.WebElement (session=\"e874fce75d758289ee5c6b9b163507ab\", element=\"528242F80F9142AF01C7AC4F07BB652C_element_397\")>],\n",
       " [<selenium.webdriver.remote.webelement.WebElement (session=\"e874fce75d758289ee5c6b9b163507ab\", element=\"D4F9597D7D38607B531BF0FC28EB5CEA_element_442\")>],\n",
       " [<selenium.webdriver.remote.webelement.WebElement (session=\"e874fce75d758289ee5c6b9b163507ab\", element=\"04C1645D857145723CB09A95AA7A7FA6_element_481\")>],\n",
       " [<selenium.webdriver.remote.webelement.WebElement (session=\"e874fce75d758289ee5c6b9b163507ab\", element=\"AD89EE9F3CA4E9B4C261BCD5C796C01D_element_523\")>],\n",
       " [<selenium.webdriver.remote.webelement.WebElement (session=\"e874fce75d758289ee5c6b9b163507ab\", element=\"8287C8F3FE8E46E19577051AFF34991E_element_563\")>]]"
      ]
     },
     "execution_count": 11,
     "metadata": {},
     "output_type": "execute_result"
    }
   ],
   "source": [
    "botoes"
   ]
  }
 ],
 "metadata": {
  "kernelspec": {
   "display_name": "base",
   "language": "python",
   "name": "python3"
  },
  "language_info": {
   "codemirror_mode": {
    "name": "ipython",
    "version": 3
   },
   "file_extension": ".py",
   "mimetype": "text/x-python",
   "name": "python",
   "nbconvert_exporter": "python",
   "pygments_lexer": "ipython3",
   "version": "3.10.9"
  }
 },
 "nbformat": 4,
 "nbformat_minor": 2
}
