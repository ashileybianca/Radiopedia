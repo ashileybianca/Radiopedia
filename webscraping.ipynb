{
 "cells": [
  {
   "cell_type": "code",
   "execution_count": 22,
   "metadata": {},
   "outputs": [
    {
     "name": "stdout",
     "output_type": "stream",
     "text": [
      "^C\n",
      "Requirement already satisfied: selenium in c:\\users\\ashar\\appdata\\local\\programs\\python\\python310\\lib\\site-packages (4.16.0)\n",
      "Requirement already satisfied: urllib3[socks]<3,>=1.26 in c:\\users\\ashar\\appdata\\roaming\\python\\python310\\site-packages (from selenium) (1.26.15)\n",
      "Requirement already satisfied: trio~=0.17 in c:\\users\\ashar\\appdata\\local\\programs\\python\\python310\\lib\\site-packages (from selenium) (0.22.0)\n",
      "Requirement already satisfied: trio-websocket~=0.9 in c:\\users\\ashar\\appdata\\local\\programs\\python\\python310\\lib\\site-packages (from selenium) (0.10.2)\n",
      "Requirement already satisfied: certifi>=2021.10.8 in c:\\users\\ashar\\appdata\\roaming\\python\\python310\\site-packages (from selenium) (2022.12.7)\n",
      "Requirement already satisfied: attrs>=19.2.0 in c:\\users\\ashar\\appdata\\local\\programs\\python\\python310\\lib\\site-packages (from trio~=0.17->selenium) (23.1.0)\n",
      "Requirement already satisfied: sortedcontainers in c:\\users\\ashar\\appdata\\local\\programs\\python\\python310\\lib\\site-packages (from trio~=0.17->selenium) (2.4.0)\n",
      "Requirement already satisfied: async-generator>=1.9 in c:\\users\\ashar\\appdata\\local\\programs\\python\\python310\\lib\\site-packages (from trio~=0.17->selenium) (1.10)\n",
      "Requirement already satisfied: idna in c:\\users\\ashar\\appdata\\roaming\\python\\python310\\site-packages (from trio~=0.17->selenium) (3.4)\n",
      "Requirement already satisfied: outcome in c:\\users\\ashar\\appdata\\local\\programs\\python\\python310\\lib\\site-packages (from trio~=0.17->selenium) (1.2.0)\n",
      "Requirement already satisfied: sniffio in c:\\users\\ashar\\appdata\\local\\programs\\python\\python310\\lib\\site-packages (from trio~=0.17->selenium) (1.3.0)\n",
      "Requirement already satisfied: cffi>=1.14 in c:\\users\\ashar\\appdata\\local\\programs\\python\\python310\\lib\\site-packages (from trio~=0.17->selenium) (1.15.1)\n",
      "Requirement already satisfied: exceptiongroup>=1.0.0rc9 in c:\\users\\ashar\\appdata\\local\\programs\\python\\python310\\lib\\site-packages (from trio~=0.17->selenium) (1.1.1)\n",
      "Requirement already satisfied: wsproto>=0.14 in c:\\users\\ashar\\appdata\\local\\programs\\python\\python310\\lib\\site-packages (from trio-websocket~=0.9->selenium) (1.2.0)\n",
      "Requirement already satisfied: PySocks!=1.5.7,<2.0,>=1.5.6 in c:\\users\\ashar\\appdata\\local\\programs\\python\\python310\\lib\\site-packages (from urllib3[socks]<3,>=1.26->selenium) (1.7.1)\n",
      "Requirement already satisfied: pycparser in c:\\users\\ashar\\appdata\\local\\programs\\python\\python310\\lib\\site-packages (from cffi>=1.14->trio~=0.17->selenium) (2.21)\n",
      "Requirement already satisfied: h11<1,>=0.9.0 in c:\\users\\ashar\\appdata\\local\\programs\\python\\python310\\lib\\site-packages (from wsproto>=0.14->trio-websocket~=0.9->selenium) (0.14.0)\n"
     ]
    },
    {
     "name": "stderr",
     "output_type": "stream",
     "text": [
      "\n",
      "[notice] A new release of pip is available: 23.2.1 -> 23.3.1\n",
      "[notice] To update, run: python.exe -m pip install --upgrade pip\n"
     ]
    },
    {
     "name": "stdout",
     "output_type": "stream",
     "text": [
      "Requirement already satisfied: bs4 in c:\\users\\ashar\\appdata\\local\\programs\\python\\python310\\lib\\site-packages (0.0.1)\n",
      "Requirement already satisfied: beautifulsoup4 in c:\\users\\ashar\\appdata\\local\\programs\\python\\python310\\lib\\site-packages (from bs4) (4.12.2)\n",
      "Requirement already satisfied: soupsieve>1.2 in c:\\users\\ashar\\appdata\\local\\programs\\python\\python310\\lib\\site-packages (from beautifulsoup4->bs4) (2.4.1)\n"
     ]
    },
    {
     "name": "stderr",
     "output_type": "stream",
     "text": [
      "\n",
      "[notice] A new release of pip is available: 23.2.1 -> 23.3.1\n",
      "[notice] To update, run: python.exe -m pip install --upgrade pip\n"
     ]
    }
   ],
   "source": [
    "!pip install selenium\n",
    "!pip install bs4"
   ]
  },
  {
   "cell_type": "code",
   "execution_count": 59,
   "metadata": {},
   "outputs": [
    {
     "ename": "NoSuchWindowException",
     "evalue": "Message: no such window: target window already closed\nfrom unknown error: web view not found\n  (Session info: chrome=119.0.6045.200)\nStacktrace:\n\tGetHandleVerifier [0x00007FF6562282B2+55298]\n\t(No symbol) [0x00007FF656195E02]\n\t(No symbol) [0x00007FF6560505AB]\n\t(No symbol) [0x00007FF656030038]\n\t(No symbol) [0x00007FF6560B6BC7]\n\t(No symbol) [0x00007FF6560CA15F]\n\t(No symbol) [0x00007FF6560B1E83]\n\t(No symbol) [0x00007FF65608670A]\n\t(No symbol) [0x00007FF656087964]\n\tGetHandleVerifier [0x00007FF6565A0AAB+3694587]\n\tGetHandleVerifier [0x00007FF6565F728E+4048862]\n\tGetHandleVerifier [0x00007FF6565EF173+4015811]\n\tGetHandleVerifier [0x00007FF6562C47D6+695590]\n\t(No symbol) [0x00007FF6561A0CE8]\n\t(No symbol) [0x00007FF65619CF34]\n\t(No symbol) [0x00007FF65619D062]\n\t(No symbol) [0x00007FF65618D3A3]\n\tBaseThreadInitThunk [0x00007FFBF6E77344+20]\n\tRtlUserThreadStart [0x00007FFBF86826B1+33]\n",
     "output_type": "error",
     "traceback": [
      "\u001b[1;31m---------------------------------------------------------------------------\u001b[0m",
      "\u001b[1;31mNoSuchWindowException\u001b[0m                     Traceback (most recent call last)",
      "\u001b[1;32mc:\\Users\\ashar\\Downloads\\Radiopedia\\Radiopedia\\webscraping.ipynb Cell 2\u001b[0m line \u001b[0;36m3\n\u001b[0;32m     <a href='vscode-notebook-cell:/c%3A/Users/ashar/Downloads/Radiopedia/Radiopedia/webscraping.ipynb#W1sZmlsZQ%3D%3D?line=35'>36</a>\u001b[0m driver \u001b[39m=\u001b[39m webdriver\u001b[39m.\u001b[39mChrome(options\u001b[39m=\u001b[39moptions)\n\u001b[0;32m     <a href='vscode-notebook-cell:/c%3A/Users/ashar/Downloads/Radiopedia/Radiopedia/webscraping.ipynb#W1sZmlsZQ%3D%3D?line=37'>38</a>\u001b[0m \u001b[39mfor\u001b[39;00m link \u001b[39min\u001b[39;00m cases_links:\n\u001b[1;32m---> <a href='vscode-notebook-cell:/c%3A/Users/ashar/Downloads/Radiopedia/Radiopedia/webscraping.ipynb#W1sZmlsZQ%3D%3D?line=38'>39</a>\u001b[0m     driver\u001b[39m.\u001b[39;49mexecute_script(\u001b[39mf\u001b[39;49m\u001b[39m\"\u001b[39;49m\u001b[39mwindow.open(\u001b[39;49m\u001b[39m'\u001b[39;49m\u001b[39m{\u001b[39;49;00mlink\u001b[39m}\u001b[39;49;00m\u001b[39m'\u001b[39;49m\u001b[39m, \u001b[39;49m\u001b[39m'\u001b[39;49m\u001b[39m_blank\u001b[39;49m\u001b[39m'\u001b[39;49m\u001b[39m)\u001b[39;49m\u001b[39m\"\u001b[39;49m)\n\u001b[0;32m     <a href='vscode-notebook-cell:/c%3A/Users/ashar/Downloads/Radiopedia/Radiopedia/webscraping.ipynb#W1sZmlsZQ%3D%3D?line=40'>41</a>\u001b[0m     time\u001b[39m.\u001b[39msleep(\u001b[39m5\u001b[39m)\n\u001b[0;32m     <a href='vscode-notebook-cell:/c%3A/Users/ashar/Downloads/Radiopedia/Radiopedia/webscraping.ipynb#W1sZmlsZQ%3D%3D?line=42'>43</a>\u001b[0m driver\u001b[39m.\u001b[39mquit()\n",
      "File \u001b[1;32mc:\\Users\\ashar\\AppData\\Local\\Programs\\Python\\Python310\\lib\\site-packages\\selenium\\webdriver\\remote\\webdriver.py:408\u001b[0m, in \u001b[0;36mWebDriver.execute_script\u001b[1;34m(self, script, *args)\u001b[0m\n\u001b[0;32m    405\u001b[0m converted_args \u001b[39m=\u001b[39m \u001b[39mlist\u001b[39m(args)\n\u001b[0;32m    406\u001b[0m command \u001b[39m=\u001b[39m Command\u001b[39m.\u001b[39mW3C_EXECUTE_SCRIPT\n\u001b[1;32m--> 408\u001b[0m \u001b[39mreturn\u001b[39;00m \u001b[39mself\u001b[39;49m\u001b[39m.\u001b[39;49mexecute(command, {\u001b[39m\"\u001b[39;49m\u001b[39mscript\u001b[39;49m\u001b[39m\"\u001b[39;49m: script, \u001b[39m\"\u001b[39;49m\u001b[39margs\u001b[39;49m\u001b[39m\"\u001b[39;49m: converted_args})[\u001b[39m\"\u001b[39m\u001b[39mvalue\u001b[39m\u001b[39m\"\u001b[39m]\n",
      "File \u001b[1;32mc:\\Users\\ashar\\AppData\\Local\\Programs\\Python\\Python310\\lib\\site-packages\\selenium\\webdriver\\remote\\webdriver.py:348\u001b[0m, in \u001b[0;36mWebDriver.execute\u001b[1;34m(self, driver_command, params)\u001b[0m\n\u001b[0;32m    346\u001b[0m response \u001b[39m=\u001b[39m \u001b[39mself\u001b[39m\u001b[39m.\u001b[39mcommand_executor\u001b[39m.\u001b[39mexecute(driver_command, params)\n\u001b[0;32m    347\u001b[0m \u001b[39mif\u001b[39;00m response:\n\u001b[1;32m--> 348\u001b[0m     \u001b[39mself\u001b[39;49m\u001b[39m.\u001b[39;49merror_handler\u001b[39m.\u001b[39;49mcheck_response(response)\n\u001b[0;32m    349\u001b[0m     response[\u001b[39m\"\u001b[39m\u001b[39mvalue\u001b[39m\u001b[39m\"\u001b[39m] \u001b[39m=\u001b[39m \u001b[39mself\u001b[39m\u001b[39m.\u001b[39m_unwrap_value(response\u001b[39m.\u001b[39mget(\u001b[39m\"\u001b[39m\u001b[39mvalue\u001b[39m\u001b[39m\"\u001b[39m, \u001b[39mNone\u001b[39;00m))\n\u001b[0;32m    350\u001b[0m     \u001b[39mreturn\u001b[39;00m response\n",
      "File \u001b[1;32mc:\\Users\\ashar\\AppData\\Local\\Programs\\Python\\Python310\\lib\\site-packages\\selenium\\webdriver\\remote\\errorhandler.py:229\u001b[0m, in \u001b[0;36mErrorHandler.check_response\u001b[1;34m(self, response)\u001b[0m\n\u001b[0;32m    227\u001b[0m         alert_text \u001b[39m=\u001b[39m value[\u001b[39m\"\u001b[39m\u001b[39malert\u001b[39m\u001b[39m\"\u001b[39m]\u001b[39m.\u001b[39mget(\u001b[39m\"\u001b[39m\u001b[39mtext\u001b[39m\u001b[39m\"\u001b[39m)\n\u001b[0;32m    228\u001b[0m     \u001b[39mraise\u001b[39;00m exception_class(message, screen, stacktrace, alert_text)  \u001b[39m# type: ignore[call-arg]  # mypy is not smart enough here\u001b[39;00m\n\u001b[1;32m--> 229\u001b[0m \u001b[39mraise\u001b[39;00m exception_class(message, screen, stacktrace)\n",
      "\u001b[1;31mNoSuchWindowException\u001b[0m: Message: no such window: target window already closed\nfrom unknown error: web view not found\n  (Session info: chrome=119.0.6045.200)\nStacktrace:\n\tGetHandleVerifier [0x00007FF6562282B2+55298]\n\t(No symbol) [0x00007FF656195E02]\n\t(No symbol) [0x00007FF6560505AB]\n\t(No symbol) [0x00007FF656030038]\n\t(No symbol) [0x00007FF6560B6BC7]\n\t(No symbol) [0x00007FF6560CA15F]\n\t(No symbol) [0x00007FF6560B1E83]\n\t(No symbol) [0x00007FF65608670A]\n\t(No symbol) [0x00007FF656087964]\n\tGetHandleVerifier [0x00007FF6565A0AAB+3694587]\n\tGetHandleVerifier [0x00007FF6565F728E+4048862]\n\tGetHandleVerifier [0x00007FF6565EF173+4015811]\n\tGetHandleVerifier [0x00007FF6562C47D6+695590]\n\t(No symbol) [0x00007FF6561A0CE8]\n\t(No symbol) [0x00007FF65619CF34]\n\t(No symbol) [0x00007FF65619D062]\n\t(No symbol) [0x00007FF65618D3A3]\n\tBaseThreadInitThunk [0x00007FFBF6E77344+20]\n\tRtlUserThreadStart [0x00007FFBF86826B1+33]\n"
     ]
    }
   ],
   "source": [
    "\n",
    "from selenium import webdriver\n",
    "from selenium.webdriver.common.by import By\n",
    "import time\n",
    "from bs4 import BeautifulSoup\n",
    "import requests\n",
    "from selenium.webdriver.chrome.options import Options\n",
    "\n",
    "cases_links = []\n",
    "all_span_tuples = []\n",
    "\n",
    "total_pages = 2  # alterar para a quantidade correta\n",
    "\n",
    "for page in range(1, total_pages + 1):\n",
    "    url = f'https://radiopaedia.org/search?lang=us&page={page}&scope=cases&sort=date_of_publication'\n",
    "    response = requests.get(url)\n",
    "    content = response.content\n",
    "\n",
    "    soup = BeautifulSoup(content, 'html.parser')\n",
    "\n",
    "    elements = soup.find_all('a', class_='search-result-case')\n",
    "\n",
    "    divs = soup.select('#search-results div.col-xs-12.search-results-listing a div.search-result-body div.search-result-description div.search-result-modalities')\n",
    "\n",
    "    for div, element in zip(divs, elements):\n",
    "        spans = div.find_all('span')\n",
    "        span_texts = [span.text.strip() for span in spans]\n",
    "        all_span_tuples.append(tuple(span_texts))\n",
    "\n",
    "        if 'CT' not in span_texts and 'MRI' not in span_texts:\n",
    "            link = element.get('href')\n",
    "            cases_links.append('https://radiopaedia.org' + link)\n",
    "\n",
    "options = Options()\n",
    "options.headless = True  # Ativado para que o navegador não seja aberto.\n",
    "\n",
    "driver = webdriver.Chrome(options=options)\n",
    "\n",
    "for link in cases_links:\n",
    "    driver.execute_script(f\"window.open('{link}', '_blank')\") \n",
    "   \n",
    "    time.sleep(5)\n",
    "    \n",
    "driver.quit()\n"
   ]
  },
  {
   "cell_type": "code",
   "execution_count": null,
   "metadata": {},
   "outputs": [],
   "source": []
  },
  {
   "cell_type": "code",
   "execution_count": null,
   "metadata": {},
   "outputs": [],
   "source": []
  }
 ],
 "metadata": {
  "kernelspec": {
   "display_name": "Python 3",
   "language": "python",
   "name": "python3"
  },
  "language_info": {
   "codemirror_mode": {
    "name": "ipython",
    "version": 3
   },
   "file_extension": ".py",
   "mimetype": "text/x-python",
   "name": "python",
   "nbconvert_exporter": "python",
   "pygments_lexer": "ipython3",
   "version": "3.10.10"
  }
 },
 "nbformat": 4,
 "nbformat_minor": 2
}
