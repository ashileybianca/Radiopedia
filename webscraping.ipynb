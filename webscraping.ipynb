{
 "cells": [
  {
   "cell_type": "code",
   "execution_count": 8,
   "metadata": {},
   "outputs": [
    {
     "name": "stdout",
     "output_type": "stream",
     "text": [
      "Requirement already satisfied: selenium in /home/luana/miniconda3/lib/python3.10/site-packages (4.15.2)\n",
      "Requirement already satisfied: certifi>=2021.10.8 in /home/luana/miniconda3/lib/python3.10/site-packages (from selenium) (2022.12.7)\n",
      "Requirement already satisfied: urllib3[socks]<3,>=1.26 in /home/luana/miniconda3/lib/python3.10/site-packages (from selenium) (1.26.14)\n",
      "Requirement already satisfied: trio-websocket~=0.9 in /home/luana/miniconda3/lib/python3.10/site-packages (from selenium) (0.11.1)\n",
      "Requirement already satisfied: trio~=0.17 in /home/luana/miniconda3/lib/python3.10/site-packages (from selenium) (0.23.1)\n",
      "Requirement already satisfied: sniffio>=1.3.0 in /home/luana/miniconda3/lib/python3.10/site-packages (from trio~=0.17->selenium) (1.3.0)\n",
      "Requirement already satisfied: outcome in /home/luana/miniconda3/lib/python3.10/site-packages (from trio~=0.17->selenium) (1.3.0.post0)\n",
      "Requirement already satisfied: idna in /home/luana/miniconda3/lib/python3.10/site-packages (from trio~=0.17->selenium) (3.4)\n",
      "Requirement already satisfied: attrs>=20.1.0 in /home/luana/miniconda3/lib/python3.10/site-packages (from trio~=0.17->selenium) (23.1.0)\n",
      "Requirement already satisfied: sortedcontainers in /home/luana/miniconda3/lib/python3.10/site-packages (from trio~=0.17->selenium) (2.4.0)\n",
      "Requirement already satisfied: exceptiongroup>=1.0.0rc9 in /home/luana/miniconda3/lib/python3.10/site-packages (from trio~=0.17->selenium) (1.2.0)\n",
      "Requirement already satisfied: wsproto>=0.14 in /home/luana/miniconda3/lib/python3.10/site-packages (from trio-websocket~=0.9->selenium) (1.2.0)\n",
      "Requirement already satisfied: PySocks!=1.5.7,<2.0,>=1.5.6 in /home/luana/miniconda3/lib/python3.10/site-packages (from urllib3[socks]<3,>=1.26->selenium) (1.7.1)\n",
      "Requirement already satisfied: h11<1,>=0.9.0 in /home/luana/miniconda3/lib/python3.10/site-packages (from wsproto>=0.14->trio-websocket~=0.9->selenium) (0.14.0)\n",
      "Requirement already satisfied: bs4 in /home/luana/miniconda3/lib/python3.10/site-packages (0.0.1)\n",
      "Requirement already satisfied: beautifulsoup4 in /home/luana/miniconda3/lib/python3.10/site-packages (from bs4) (4.12.2)\n",
      "Requirement already satisfied: soupsieve>1.2 in /home/luana/miniconda3/lib/python3.10/site-packages (from beautifulsoup4->bs4) (2.5)\n"
     ]
    }
   ],
   "source": [
    "!pip install selenium\n",
    "!pip install bs4"
   ]
  },
  {
   "cell_type": "code",
   "execution_count": 11,
   "metadata": {},
   "outputs": [
    {
     "name": "stdout",
     "output_type": "stream",
     "text": [
      "https://radiopaedia.org/cases/bifid-rib-6?lang=us\n",
      "https://radiopaedia.org/cases/ovarian-mature-cystic-teratoma-21?lang=us\n",
      "https://radiopaedia.org/cases/posterior-circulation-infarction-4?lang=us\n",
      "https://radiopaedia.org/cases/torsion-of-the-appendix-testis-1?lang=us\n",
      "https://radiopaedia.org/cases/patent-urachus-4?lang=us\n",
      "https://radiopaedia.org/cases/isolated-scapholunate-ligament-tear?lang=us\n",
      "https://radiopaedia.org/cases/osteomyelitis-in-a-diabetic-foot?lang=us\n",
      "https://radiopaedia.org/cases/diffuse-oesophageal-spasm-3?lang=us\n",
      "https://radiopaedia.org/cases/epiphrenic-diverticulum-9?lang=us\n",
      "https://radiopaedia.org/cases/aneurysmal-bone-cyst-43?lang=us\n",
      "https://radiopaedia.org/cases/normal-pressure-hydrocephalus-32?lang=us\n",
      "https://radiopaedia.org/cases/sphenoid-wing-meningioma-19?lang=us\n",
      "https://radiopaedia.org/cases/amoebic-encephalitis-1?lang=us\n",
      "https://radiopaedia.org/cases/suboptimally-placed-lines-and-tubes-on-chest-x-ray?lang=us\n",
      "https://radiopaedia.org/cases/testicular-abscess-and-pyocoele?lang=us\n",
      "https://radiopaedia.org/cases/interstitial-ectopic-pregnancy-2?lang=us\n",
      "https://radiopaedia.org/cases/testicular-rupture?lang=us\n",
      "https://radiopaedia.org/cases/left-atrial-enlargement-7?lang=us\n",
      "https://radiopaedia.org/cases/anterior-rectocoele-and-rectal-intussusception?lang=us\n",
      "https://radiopaedia.org/cases/anterior-and-posterior-rectocoele-sigmoidocoele-and-rectal-intussusception?lang=us\n",
      "https://radiopaedia.org/cases/male-anterior-rectocoele?lang=us\n",
      "https://radiopaedia.org/cases/rectal-prolapse?lang=us\n",
      "https://radiopaedia.org/cases/accessory-navicular-bone-3?lang=us\n",
      "https://radiopaedia.org/cases/rectal-intussusception-and-prolapse?lang=us\n"
     ]
    }
   ],
   "source": [
    "import requests\n",
    "from bs4 import BeautifulSoup\n",
    "\n",
    "base_url = 'https://radiopaedia.org/search?lang=us&page={}&scope=cases&sort=date_of_publication'\n",
    "\n",
    "cases_links = []\n",
    "all_span_tuples = []  # guarda o link do rótulo dos cases (para caso for CT, descartar)\n",
    "\n",
    "total_pages = 2  # alterar para a quantidade correta\n",
    "\n",
    "for page in range(1, total_pages + 1):\n",
    "    url = base_url.format(page)\n",
    "    response = requests.get(url)\n",
    "    content = response.content\n",
    "\n",
    "    soup = BeautifulSoup(content, 'html.parser')\n",
    "\n",
    "    elements = soup.find_all('a', class_='search-result-case')\n",
    "\n",
    "    divs = soup.select('#search-results div.col-xs-12.search-results-listing a div.search-result-body div.search-result-description div.search-result-modalities')\n",
    "\n",
    "    for div, element in zip(divs, elements):\n",
    "        spans = div.find_all('span')\n",
    "        span_texts = [span.text.strip() for span in spans]\n",
    "        all_span_tuples.append(tuple(span_texts))\n",
    "\n",
    "        if 'CT' not in span_texts:\n",
    "            link = element.get('href')\n",
    "            cases_links.append('https://radiopaedia.org' + link)\n",
    "            \n",
    "            \n",
    "\n"
   ]
  }
 ],
 "metadata": {
  "kernelspec": {
   "display_name": "Python 3",
   "language": "python",
   "name": "python3"
  },
  "language_info": {
   "codemirror_mode": {
    "name": "ipython",
    "version": 3
   },
   "file_extension": ".py",
   "mimetype": "text/x-python",
   "name": "python",
   "nbconvert_exporter": "python",
   "pygments_lexer": "ipython3",
   "version": "3.10.9"
  }
 },
 "nbformat": 4,
 "nbformat_minor": 2
}
