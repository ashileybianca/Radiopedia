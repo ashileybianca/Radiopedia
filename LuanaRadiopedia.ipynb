{
 "cells": [
  {
   "cell_type": "code",
   "execution_count": 22,
   "metadata": {},
   "outputs": [],
   "source": [
    "from selenium import webdriver\n",
    "from selenium.webdriver.common.by import By\n",
    "import time\n",
    "from bs4 import BeautifulSoup\n",
    "import requests\n",
    "from selenium.webdriver.chrome.options import Options\n",
    "import json\n",
    "import re"
   ]
  },
  {
   "cell_type": "code",
   "execution_count": 23,
   "metadata": {},
   "outputs": [],
   "source": [
    "cases_links = []\n",
    "all_span_tuples = []\n",
    "\n",
    "total_pages = 2  # alterar para a quantidade correta\n",
    "\n",
    "for page in range(1, total_pages + 1):\n",
    "    url = f'https://radiopaedia.org/search?lang=us&page={page}&scope=cases&sort=date_of_publication'\n",
    "    response = requests.get(url)\n",
    "    content = response.content\n",
    "\n",
    "    soup = BeautifulSoup(content, 'html.parser')\n",
    "\n",
    "    elements = soup.find_all('a', class_='search-result-case')\n",
    "\n",
    "    divs = soup.select('#search-results div.col-xs-12.search-results-listing a div.search-result-body div.search-result-description div.search-result-modalities')\n",
    "\n",
    "    for div, element in zip(divs, elements):\n",
    "        spans = div.find_all('span')\n",
    "        span_texts = [span.text.strip() for span in spans]\n",
    "        all_span_tuples.append(tuple(span_texts))\n",
    "\n",
    "        if 'CT' not in span_texts and 'MRI' not in span_texts:\n",
    "            link = element.get('href')\n",
    "            cases_links.append('https://radiopaedia.org' + link)\n",
    "            "
   ]
  },
  {
   "cell_type": "code",
   "execution_count": 24,
   "metadata": {},
   "outputs": [],
   "source": [
    "options = Options()\n",
    "options.headless = True  # Ativado para que o navegador não seja aberto.\n",
    "\n",
    "driver = webdriver.Chrome(options=options)\n"
   ]
  },
  {
   "cell_type": "code",
   "execution_count": 25,
   "metadata": {},
   "outputs": [
    {
     "ename": "ElementClickInterceptedException",
     "evalue": "Message: element click intercepted: Element <div style=\"width: 24px; height: 24px; \" class=\"fa-clickable\">...</div> is not clickable at point (753, 704). Other element would receive the click: <iframe id=\"google_ads_iframe_/22152718,2190163/radiopaedia_adhesive_cases_0\" name=\"google_ads_iframe_/22152718,2190163/radiopaedia_adhesive_cases_0\" title=\"3rd party ad content\" width=\"728\" height=\"90\" scrolling=\"no\" marginwidth=\"0\" marginheight=\"0\" frameborder=\"0\" role=\"region\" aria-label=\"Advertisement\" tabindex=\"0\" style=\"border: 0px; vertical-align: bottom;\" data-load-complete=\"true\" data-google-container-id=\"5\"></iframe>\n  (Session info: chrome=118.0.5993.88)\nStacktrace:\n#0 0x5632da920fb3 <unknown>\n#1 0x5632da5f44a7 <unknown>\n#2 0x5632da641ecd <unknown>\n#3 0x5632da64026d <unknown>\n#4 0x5632da63e028 <unknown>\n#5 0x5632da63d097 <unknown>\n#6 0x5632da631d59 <unknown>\n#7 0x5632da65d942 <unknown>\n#8 0x5632da631776 <unknown>\n#9 0x5632da65db0e <unknown>\n#10 0x5632da676c02 <unknown>\n#11 0x5632da65d713 <unknown>\n#12 0x5632da63018b <unknown>\n#13 0x5632da630f7e <unknown>\n#14 0x5632da8e68d8 <unknown>\n#15 0x5632da8ea800 <unknown>\n#16 0x5632da8f4cfc <unknown>\n#17 0x5632da8eb418 <unknown>\n#18 0x5632da8b842f <unknown>\n#19 0x5632da90f4e8 <unknown>\n#20 0x5632da90f6b4 <unknown>\n#21 0x5632da920143 <unknown>\n#22 0x7f5b3a694ac3 <unknown>\n",
     "output_type": "error",
     "traceback": [
      "\u001b[0;31m---------------------------------------------------------------------------\u001b[0m",
      "\u001b[0;31mElementClickInterceptedException\u001b[0m          Traceback (most recent call last)",
      "\u001b[1;32m/home/luana/Downloads/LuanaRadiopedia.ipynb Cell 4\u001b[0m line \u001b[0;36m6\n\u001b[1;32m      <a href='vscode-notebook-cell:/home/luana/Downloads/LuanaRadiopedia.ipynb#W1sZmlsZQ%3D%3D?line=3'>4</a>\u001b[0m time\u001b[39m.\u001b[39msleep(\u001b[39m5\u001b[39m)\n\u001b[1;32m      <a href='vscode-notebook-cell:/home/luana/Downloads/LuanaRadiopedia.ipynb#W1sZmlsZQ%3D%3D?line=4'>5</a>\u001b[0m div_element \u001b[39m=\u001b[39m driver\u001b[39m.\u001b[39mfind_element(By\u001b[39m.\u001b[39mCLASS_NAME, \u001b[39m'\u001b[39m\u001b[39mfa-clickable\u001b[39m\u001b[39m'\u001b[39m)\n\u001b[0;32m----> <a href='vscode-notebook-cell:/home/luana/Downloads/LuanaRadiopedia.ipynb#W1sZmlsZQ%3D%3D?line=5'>6</a>\u001b[0m div_element\u001b[39m.\u001b[39;49mclick()\n\u001b[1;32m      <a href='vscode-notebook-cell:/home/luana/Downloads/LuanaRadiopedia.ipynb#W1sZmlsZQ%3D%3D?line=7'>8</a>\u001b[0m time\u001b[39m.\u001b[39msleep(\u001b[39m5\u001b[39m)\n\u001b[1;32m      <a href='vscode-notebook-cell:/home/luana/Downloads/LuanaRadiopedia.ipynb#W1sZmlsZQ%3D%3D?line=8'>9</a>\u001b[0m driver\u001b[39m.\u001b[39mrefresh()\n",
      "File \u001b[0;32m~/miniconda3/lib/python3.10/site-packages/selenium/webdriver/remote/webelement.py:93\u001b[0m, in \u001b[0;36mWebElement.click\u001b[0;34m(self)\u001b[0m\n\u001b[1;32m     91\u001b[0m \u001b[39mdef\u001b[39;00m \u001b[39mclick\u001b[39m(\u001b[39mself\u001b[39m) \u001b[39m-\u001b[39m\u001b[39m>\u001b[39m \u001b[39mNone\u001b[39;00m:\n\u001b[1;32m     92\u001b[0m \u001b[39m    \u001b[39m\u001b[39m\"\"\"Clicks the element.\"\"\"\u001b[39;00m\n\u001b[0;32m---> 93\u001b[0m     \u001b[39mself\u001b[39;49m\u001b[39m.\u001b[39;49m_execute(Command\u001b[39m.\u001b[39;49mCLICK_ELEMENT)\n",
      "File \u001b[0;32m~/miniconda3/lib/python3.10/site-packages/selenium/webdriver/remote/webelement.py:394\u001b[0m, in \u001b[0;36mWebElement._execute\u001b[0;34m(self, command, params)\u001b[0m\n\u001b[1;32m    392\u001b[0m     params \u001b[39m=\u001b[39m {}\n\u001b[1;32m    393\u001b[0m params[\u001b[39m\"\u001b[39m\u001b[39mid\u001b[39m\u001b[39m\"\u001b[39m] \u001b[39m=\u001b[39m \u001b[39mself\u001b[39m\u001b[39m.\u001b[39m_id\n\u001b[0;32m--> 394\u001b[0m \u001b[39mreturn\u001b[39;00m \u001b[39mself\u001b[39;49m\u001b[39m.\u001b[39;49m_parent\u001b[39m.\u001b[39;49mexecute(command, params)\n",
      "File \u001b[0;32m~/miniconda3/lib/python3.10/site-packages/selenium/webdriver/remote/webdriver.py:347\u001b[0m, in \u001b[0;36mWebDriver.execute\u001b[0;34m(self, driver_command, params)\u001b[0m\n\u001b[1;32m    345\u001b[0m response \u001b[39m=\u001b[39m \u001b[39mself\u001b[39m\u001b[39m.\u001b[39mcommand_executor\u001b[39m.\u001b[39mexecute(driver_command, params)\n\u001b[1;32m    346\u001b[0m \u001b[39mif\u001b[39;00m response:\n\u001b[0;32m--> 347\u001b[0m     \u001b[39mself\u001b[39;49m\u001b[39m.\u001b[39;49merror_handler\u001b[39m.\u001b[39;49mcheck_response(response)\n\u001b[1;32m    348\u001b[0m     response[\u001b[39m\"\u001b[39m\u001b[39mvalue\u001b[39m\u001b[39m\"\u001b[39m] \u001b[39m=\u001b[39m \u001b[39mself\u001b[39m\u001b[39m.\u001b[39m_unwrap_value(response\u001b[39m.\u001b[39mget(\u001b[39m\"\u001b[39m\u001b[39mvalue\u001b[39m\u001b[39m\"\u001b[39m, \u001b[39mNone\u001b[39;00m))\n\u001b[1;32m    349\u001b[0m     \u001b[39mreturn\u001b[39;00m response\n",
      "File \u001b[0;32m~/miniconda3/lib/python3.10/site-packages/selenium/webdriver/remote/errorhandler.py:229\u001b[0m, in \u001b[0;36mErrorHandler.check_response\u001b[0;34m(self, response)\u001b[0m\n\u001b[1;32m    227\u001b[0m         alert_text \u001b[39m=\u001b[39m value[\u001b[39m\"\u001b[39m\u001b[39malert\u001b[39m\u001b[39m\"\u001b[39m]\u001b[39m.\u001b[39mget(\u001b[39m\"\u001b[39m\u001b[39mtext\u001b[39m\u001b[39m\"\u001b[39m)\n\u001b[1;32m    228\u001b[0m     \u001b[39mraise\u001b[39;00m exception_class(message, screen, stacktrace, alert_text)  \u001b[39m# type: ignore[call-arg]  # mypy is not smart enough here\u001b[39;00m\n\u001b[0;32m--> 229\u001b[0m \u001b[39mraise\u001b[39;00m exception_class(message, screen, stacktrace)\n",
      "\u001b[0;31mElementClickInterceptedException\u001b[0m: Message: element click intercepted: Element <div style=\"width: 24px; height: 24px; \" class=\"fa-clickable\">...</div> is not clickable at point (753, 704). Other element would receive the click: <iframe id=\"google_ads_iframe_/22152718,2190163/radiopaedia_adhesive_cases_0\" name=\"google_ads_iframe_/22152718,2190163/radiopaedia_adhesive_cases_0\" title=\"3rd party ad content\" width=\"728\" height=\"90\" scrolling=\"no\" marginwidth=\"0\" marginheight=\"0\" frameborder=\"0\" role=\"region\" aria-label=\"Advertisement\" tabindex=\"0\" style=\"border: 0px; vertical-align: bottom;\" data-load-complete=\"true\" data-google-container-id=\"5\"></iframe>\n  (Session info: chrome=118.0.5993.88)\nStacktrace:\n#0 0x5632da920fb3 <unknown>\n#1 0x5632da5f44a7 <unknown>\n#2 0x5632da641ecd <unknown>\n#3 0x5632da64026d <unknown>\n#4 0x5632da63e028 <unknown>\n#5 0x5632da63d097 <unknown>\n#6 0x5632da631d59 <unknown>\n#7 0x5632da65d942 <unknown>\n#8 0x5632da631776 <unknown>\n#9 0x5632da65db0e <unknown>\n#10 0x5632da676c02 <unknown>\n#11 0x5632da65d713 <unknown>\n#12 0x5632da63018b <unknown>\n#13 0x5632da630f7e <unknown>\n#14 0x5632da8e68d8 <unknown>\n#15 0x5632da8ea800 <unknown>\n#16 0x5632da8f4cfc <unknown>\n#17 0x5632da8eb418 <unknown>\n#18 0x5632da8b842f <unknown>\n#19 0x5632da90f4e8 <unknown>\n#20 0x5632da90f6b4 <unknown>\n#21 0x5632da920143 <unknown>\n#22 0x7f5b3a694ac3 <unknown>\n"
     ]
    }
   ],
   "source": [
    "for case in cases_links:\n",
    "    driver.get(case)\n",
    "\n",
    "    time.sleep(5)\n",
    "    div_element = driver.find_element(By.CLASS_NAME, 'fa-clickable')\n",
    "    div_element.click()\n",
    "\n",
    "    time.sleep(5)\n",
    "    driver.refresh()\n",
    "\n",
    "    # Find the script element directly\n",
    "    script_element = driver.find_element(By.XPATH, '//script[contains(text(), \"var stackedImages\")]')\n",
    "\n",
    "    # Get the text content of the script element\n",
    "    codigo_js = script_element.get_attribute('text')\n",
    "\n",
    "\n",
    "    match = re.search(r'var stackedImages = (.*?);', codigo_js)\n",
    "\n",
    "    if match:\n",
    "        json_data = match.group(1)\n",
    "\n",
    "        data = json.loads(json_data)\n",
    "        image_info = []\n",
    "\n",
    "        for entry in data:\n",
    "            for image in entry['images']:\n",
    "                info = {\n",
    "                    'public_filename': image['public_filename'],\n",
    "                    'plane_projection': image['plane_projection']\n",
    "                }\n",
    "                image_info.append(info)\n",
    "\n",
    "\n",
    "        for info in image_info:\n",
    "            print(f\"Public Filename: {info['public_filename']}\")\n",
    "            print(f\"Plane Projection: {info['plane_projection']}\")\n",
    "            print('-' * 30)\n",
    "    else:\n",
    "        print(\"Pattern not found.\")"
   ]
  }
 ],
 "metadata": {
  "kernelspec": {
   "display_name": "Python 3",
   "language": "python",
   "name": "python3"
  },
  "language_info": {
   "codemirror_mode": {
    "name": "ipython",
    "version": 3
   },
   "file_extension": ".py",
   "mimetype": "text/x-python",
   "name": "python",
   "nbconvert_exporter": "python",
   "pygments_lexer": "ipython3",
   "version": "3.10.9"
  }
 },
 "nbformat": 4,
 "nbformat_minor": 2
}
